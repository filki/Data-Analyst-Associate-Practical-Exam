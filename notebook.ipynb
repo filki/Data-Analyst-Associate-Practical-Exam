{
 "cells": [
  {
   "cell_type": "markdown",
   "id": "a5b3bc0e-b993-4ee3-bd07-825a474bd0d9",
   "metadata": {
    "tags": []
   },
   "source": [
    "# Data Analyst Associate Practical Exam Submission\n",
    "\n",
    "**You can use any tool that you want to do your analysis and create visualizations. Use this template to write up your summary for submission.**\n",
    "\n",
    "You can use any markdown formatting you wish. If you are not familiar with Markdown, read the [Markdown Guide](https://s3.amazonaws.com/talent-assets.datacamp.com/Markdown+Guide.pdf) before you start.\n",
    "\n"
   ]
  },
  {
   "cell_type": "markdown",
   "id": "d1b1a012-1ccb-40e7-a1ad-77b60b256690",
   "metadata": {
    "jp-MarkdownHeadingCollapsed": true,
    "tags": []
   },
   "source": [
    "## Task 1\n",
    "\n"
   ]
  },
  {
   "cell_type": "code",
   "execution_count": 1,
   "id": "c6d17f35-fd24-4850-9768-b205b2a9d0f9",
   "metadata": {
    "executionTime": 2932,
    "lastSuccessfullyExecutedCode": "import pandas as pd\nimport numpy as np\nimport seaborn as sns\nimport matplotlib.pyplot as plt\nfrom scipy.stats import kurtosis\nfrom scipy.stats import skew"
   },
   "outputs": [],
   "source": [
    "import pandas as pd\n",
    "import numpy as np\n",
    "import seaborn as sns\n",
    "import matplotlib.pyplot as plt\n",
    "from scipy.stats import kurtosis\n",
    "from scipy.stats import skew"
   ]
  },
  {
   "cell_type": "markdown",
   "id": "49172fb0-4b6c-4e79-b1d1-84b13067ea20",
   "metadata": {},
   "source": [
    "Loading file"
   ]
  },
  {
   "cell_type": "code",
   "execution_count": 2,
   "id": "1b30de31-5aa5-45e9-b062-b6905e225e2f",
   "metadata": {
    "executionTime": 0,
    "lastSuccessfullyExecutedCode": "df = pd.read_csv('food_claims_2212.csv')"
   },
   "outputs": [],
   "source": [
    "df = pd.read_csv('food_claims_2212.csv')"
   ]
  },
  {
   "cell_type": "markdown",
   "id": "1bb519a3-d5de-4918-9cd2-29555a64dae9",
   "metadata": {},
   "source": [
    "First rows"
   ]
  },
  {
   "cell_type": "code",
   "execution_count": 4,
   "id": "8646f5c4-1bb5-4aad-8a33-876b2b034327",
   "metadata": {
    "executionTime": 99,
    "lastSuccessfullyExecutedCode": "df.head()"
   },
   "outputs": [
    {
     "data": {
      "application/com.datacamp.data-table.v1+json": {
       "table": {
        "data": [
         {
          "amount_paid": 51231.37,
          "cause": "unknown",
          "claim_amount": "R$ 74474.55",
          "claim_id": 1,
          "index": 0,
          "individuals_on_claim": 15,
          "linked_cases": false,
          "location": "RECIFE",
          "time_to_close": 317
         },
         {
          "amount_paid": 42111.3,
          "cause": "unknown",
          "claim_amount": "R$ 52137.83",
          "claim_id": 2,
          "index": 1,
          "individuals_on_claim": 12,
          "linked_cases": true,
          "location": "FORTALEZA",
          "time_to_close": 195
         },
         {
          "amount_paid": 23986.3,
          "cause": "meat",
          "claim_amount": "R$ 24447.2",
          "claim_id": 3,
          "index": 2,
          "individuals_on_claim": 10,
          "linked_cases": true,
          "location": "SAO LUIS",
          "time_to_close": 183
         },
         {
          "amount_paid": 27942.72,
          "cause": "meat",
          "claim_amount": "R$ 29006.28",
          "claim_id": 4,
          "index": 3,
          "individuals_on_claim": 11,
          "linked_cases": false,
          "location": "FORTALEZA",
          "time_to_close": 186
         },
         {
          "amount_paid": 16251.06,
          "cause": "vegetable",
          "claim_amount": "R$ 19520.6",
          "claim_id": 5,
          "index": 4,
          "individuals_on_claim": 11,
          "linked_cases": false,
          "location": "RECIFE",
          "time_to_close": 138
         }
        ],
        "schema": {
         "fields": [
          {
           "name": "index",
           "type": "integer"
          },
          {
           "name": "claim_id",
           "type": "integer"
          },
          {
           "name": "time_to_close",
           "type": "integer"
          },
          {
           "name": "claim_amount",
           "type": "string"
          },
          {
           "name": "amount_paid",
           "type": "number"
          },
          {
           "name": "location",
           "type": "string"
          },
          {
           "name": "individuals_on_claim",
           "type": "integer"
          },
          {
           "name": "linked_cases",
           "type": "string"
          },
          {
           "name": "cause",
           "type": "string"
          }
         ],
         "pandas_version": "1.4.0",
         "primaryKey": [
          "index"
         ]
        }
       },
       "total_rows": 5,
       "truncation_type": null
      },
      "text/html": [
       "<div>\n",
       "<style scoped>\n",
       "    .dataframe tbody tr th:only-of-type {\n",
       "        vertical-align: middle;\n",
       "    }\n",
       "\n",
       "    .dataframe tbody tr th {\n",
       "        vertical-align: top;\n",
       "    }\n",
       "\n",
       "    .dataframe thead th {\n",
       "        text-align: right;\n",
       "    }\n",
       "</style>\n",
       "<table border=\"1\" class=\"dataframe\">\n",
       "  <thead>\n",
       "    <tr style=\"text-align: right;\">\n",
       "      <th></th>\n",
       "      <th>claim_id</th>\n",
       "      <th>time_to_close</th>\n",
       "      <th>claim_amount</th>\n",
       "      <th>amount_paid</th>\n",
       "      <th>location</th>\n",
       "      <th>individuals_on_claim</th>\n",
       "      <th>linked_cases</th>\n",
       "      <th>cause</th>\n",
       "    </tr>\n",
       "  </thead>\n",
       "  <tbody>\n",
       "    <tr>\n",
       "      <th>0</th>\n",
       "      <td>1</td>\n",
       "      <td>317</td>\n",
       "      <td>R$ 74474.55</td>\n",
       "      <td>51231.37</td>\n",
       "      <td>RECIFE</td>\n",
       "      <td>15</td>\n",
       "      <td>False</td>\n",
       "      <td>unknown</td>\n",
       "    </tr>\n",
       "    <tr>\n",
       "      <th>1</th>\n",
       "      <td>2</td>\n",
       "      <td>195</td>\n",
       "      <td>R$ 52137.83</td>\n",
       "      <td>42111.30</td>\n",
       "      <td>FORTALEZA</td>\n",
       "      <td>12</td>\n",
       "      <td>True</td>\n",
       "      <td>unknown</td>\n",
       "    </tr>\n",
       "    <tr>\n",
       "      <th>2</th>\n",
       "      <td>3</td>\n",
       "      <td>183</td>\n",
       "      <td>R$ 24447.2</td>\n",
       "      <td>23986.30</td>\n",
       "      <td>SAO LUIS</td>\n",
       "      <td>10</td>\n",
       "      <td>True</td>\n",
       "      <td>meat</td>\n",
       "    </tr>\n",
       "    <tr>\n",
       "      <th>3</th>\n",
       "      <td>4</td>\n",
       "      <td>186</td>\n",
       "      <td>R$ 29006.28</td>\n",
       "      <td>27942.72</td>\n",
       "      <td>FORTALEZA</td>\n",
       "      <td>11</td>\n",
       "      <td>False</td>\n",
       "      <td>meat</td>\n",
       "    </tr>\n",
       "    <tr>\n",
       "      <th>4</th>\n",
       "      <td>5</td>\n",
       "      <td>138</td>\n",
       "      <td>R$ 19520.6</td>\n",
       "      <td>16251.06</td>\n",
       "      <td>RECIFE</td>\n",
       "      <td>11</td>\n",
       "      <td>False</td>\n",
       "      <td>vegetable</td>\n",
       "    </tr>\n",
       "  </tbody>\n",
       "</table>\n",
       "</div>"
      ],
      "text/plain": [
       "   claim_id  time_to_close  ... linked_cases      cause\n",
       "0         1            317  ...        False    unknown\n",
       "1         2            195  ...         True    unknown\n",
       "2         3            183  ...         True       meat\n",
       "3         4            186  ...        False       meat\n",
       "4         5            138  ...        False  vegetable\n",
       "\n",
       "[5 rows x 8 columns]"
      ]
     },
     "execution_count": 4,
     "metadata": {},
     "output_type": "execute_result"
    }
   ],
   "source": [
    "df.head()"
   ]
  },
  {
   "cell_type": "markdown",
   "id": "e68f6feb-a07d-4bcb-8275-00804af9f46e",
   "metadata": {},
   "source": [
    "Everything looks fine"
   ]
  },
  {
   "cell_type": "markdown",
   "id": "bdc8bafa-4201-45e4-a1eb-8101f52bd6ef",
   "metadata": {},
   "source": [
    "Shape of file"
   ]
  },
  {
   "cell_type": "code",
   "execution_count": 5,
   "id": "adebb4d5-7e84-4ed0-bb9e-f76bb55a1e4c",
   "metadata": {
    "executionTime": 65,
    "lastSuccessfullyExecutedCode": "df.shape"
   },
   "outputs": [
    {
     "data": {
      "text/plain": [
       "(2000, 8)"
      ]
     },
     "execution_count": 5,
     "metadata": {},
     "output_type": "execute_result"
    }
   ],
   "source": [
    "df.shape"
   ]
  },
  {
   "cell_type": "markdown",
   "id": "73cfca0d-6f6c-4f67-a2d5-052d62ed98ce",
   "metadata": {},
   "source": [
    "We can see that file contains 2000 rows and 8 columns"
   ]
  },
  {
   "cell_type": "markdown",
   "id": "f7772cd9-93d1-4334-9da6-0394e622e56c",
   "metadata": {},
   "source": [
    "Information about data frame"
   ]
  },
  {
   "cell_type": "code",
   "execution_count": 6,
   "id": "71c1c629-1668-45aa-95c8-ef287509a7b9",
   "metadata": {
    "executionTime": 71,
    "lastSuccessfullyExecutedCode": "df.info()"
   },
   "outputs": [
    {
     "name": "stdout",
     "output_type": "stream",
     "text": [
      "<class 'pandas.core.frame.DataFrame'>\n",
      "RangeIndex: 2000 entries, 0 to 1999\n",
      "Data columns (total 8 columns):\n",
      " #   Column                Non-Null Count  Dtype  \n",
      "---  ------                --------------  -----  \n",
      " 0   claim_id              2000 non-null   int64  \n",
      " 1   time_to_close         2000 non-null   int64  \n",
      " 2   claim_amount          2000 non-null   object \n",
      " 3   amount_paid           1964 non-null   float64\n",
      " 4   location              2000 non-null   object \n",
      " 5   individuals_on_claim  2000 non-null   int64  \n",
      " 6   linked_cases          1974 non-null   object \n",
      " 7   cause                 2000 non-null   object \n",
      "dtypes: float64(1), int64(3), object(4)\n",
      "memory usage: 125.1+ KB\n"
     ]
    }
   ],
   "source": [
    "df.info()"
   ]
  },
  {
   "cell_type": "markdown",
   "id": "714a7083-7a43-4b0b-8ed4-2675efc87691",
   "metadata": {
    "tags": []
   },
   "source": [
    "We can see that there are some missing values in Data Frame(36 for amount_paid and 26 for linked_cases)"
   ]
  },
  {
   "cell_type": "markdown",
   "id": "086f5a98-3fff-4fc7-921f-64dc67c8eea2",
   "metadata": {},
   "source": [
    "Some aggregated stastistics"
   ]
  },
  {
   "cell_type": "code",
   "execution_count": 7,
   "id": "1ca8172c-937b-4d58-8554-e1e7c948ac22",
   "metadata": {
    "executionTime": 117,
    "lastSuccessfullyExecutedCode": "df.describe()"
   },
   "outputs": [
    {
     "data": {
      "application/com.datacamp.data-table.v1+json": {
       "table": {
        "data": [
         {
          "amount_paid": 1964,
          "claim_id": 2000,
          "index": "count",
          "individuals_on_claim": 2000,
          "time_to_close": 2000
         },
         {
          "amount_paid": 21541.9751832994,
          "claim_id": 1000.5,
          "index": "mean",
          "individuals_on_claim": 8.0495,
          "time_to_close": 185.568
         },
         {
          "amount_paid": 12530.1565093075,
          "claim_id": 577.4945887192,
          "index": "std",
          "individuals_on_claim": 4.0873466884,
          "time_to_close": 49.163389788
         },
         {
          "amount_paid": 1516.72,
          "claim_id": 1,
          "index": "min",
          "individuals_on_claim": 1,
          "time_to_close": 76
         },
         {
          "amount_paid": 10995.95,
          "claim_id": 500.75,
          "index": "25%",
          "individuals_on_claim": 4,
          "time_to_close": 158
         },
         {
          "amount_paid": 20105.7,
          "claim_id": 1000.5,
          "index": "50%",
          "individuals_on_claim": 8,
          "time_to_close": 179
         },
         {
          "amount_paid": 30709.35,
          "claim_id": 1500.25,
          "index": "75%",
          "individuals_on_claim": 12,
          "time_to_close": 204
         },
         {
          "amount_paid": 52498.75,
          "claim_id": 2000,
          "index": "max",
          "individuals_on_claim": 15,
          "time_to_close": 518
         }
        ],
        "schema": {
         "fields": [
          {
           "name": "index",
           "type": "string"
          },
          {
           "name": "claim_id",
           "type": "number"
          },
          {
           "name": "time_to_close",
           "type": "number"
          },
          {
           "name": "amount_paid",
           "type": "number"
          },
          {
           "name": "individuals_on_claim",
           "type": "number"
          }
         ],
         "pandas_version": "1.4.0",
         "primaryKey": [
          "index"
         ]
        }
       },
       "total_rows": 8,
       "truncation_type": null
      },
      "text/html": [
       "<div>\n",
       "<style scoped>\n",
       "    .dataframe tbody tr th:only-of-type {\n",
       "        vertical-align: middle;\n",
       "    }\n",
       "\n",
       "    .dataframe tbody tr th {\n",
       "        vertical-align: top;\n",
       "    }\n",
       "\n",
       "    .dataframe thead th {\n",
       "        text-align: right;\n",
       "    }\n",
       "</style>\n",
       "<table border=\"1\" class=\"dataframe\">\n",
       "  <thead>\n",
       "    <tr style=\"text-align: right;\">\n",
       "      <th></th>\n",
       "      <th>claim_id</th>\n",
       "      <th>time_to_close</th>\n",
       "      <th>amount_paid</th>\n",
       "      <th>individuals_on_claim</th>\n",
       "    </tr>\n",
       "  </thead>\n",
       "  <tbody>\n",
       "    <tr>\n",
       "      <th>count</th>\n",
       "      <td>2000.000000</td>\n",
       "      <td>2000.00000</td>\n",
       "      <td>1964.000000</td>\n",
       "      <td>2000.000000</td>\n",
       "    </tr>\n",
       "    <tr>\n",
       "      <th>mean</th>\n",
       "      <td>1000.500000</td>\n",
       "      <td>185.56800</td>\n",
       "      <td>21541.975183</td>\n",
       "      <td>8.049500</td>\n",
       "    </tr>\n",
       "    <tr>\n",
       "      <th>std</th>\n",
       "      <td>577.494589</td>\n",
       "      <td>49.16339</td>\n",
       "      <td>12530.156509</td>\n",
       "      <td>4.087347</td>\n",
       "    </tr>\n",
       "    <tr>\n",
       "      <th>min</th>\n",
       "      <td>1.000000</td>\n",
       "      <td>76.00000</td>\n",
       "      <td>1516.720000</td>\n",
       "      <td>1.000000</td>\n",
       "    </tr>\n",
       "    <tr>\n",
       "      <th>25%</th>\n",
       "      <td>500.750000</td>\n",
       "      <td>158.00000</td>\n",
       "      <td>10995.950000</td>\n",
       "      <td>4.000000</td>\n",
       "    </tr>\n",
       "    <tr>\n",
       "      <th>50%</th>\n",
       "      <td>1000.500000</td>\n",
       "      <td>179.00000</td>\n",
       "      <td>20105.700000</td>\n",
       "      <td>8.000000</td>\n",
       "    </tr>\n",
       "    <tr>\n",
       "      <th>75%</th>\n",
       "      <td>1500.250000</td>\n",
       "      <td>204.00000</td>\n",
       "      <td>30709.350000</td>\n",
       "      <td>12.000000</td>\n",
       "    </tr>\n",
       "    <tr>\n",
       "      <th>max</th>\n",
       "      <td>2000.000000</td>\n",
       "      <td>518.00000</td>\n",
       "      <td>52498.750000</td>\n",
       "      <td>15.000000</td>\n",
       "    </tr>\n",
       "  </tbody>\n",
       "</table>\n",
       "</div>"
      ],
      "text/plain": [
       "          claim_id  time_to_close   amount_paid  individuals_on_claim\n",
       "count  2000.000000     2000.00000   1964.000000           2000.000000\n",
       "mean   1000.500000      185.56800  21541.975183              8.049500\n",
       "std     577.494589       49.16339  12530.156509              4.087347\n",
       "min       1.000000       76.00000   1516.720000              1.000000\n",
       "25%     500.750000      158.00000  10995.950000              4.000000\n",
       "50%    1000.500000      179.00000  20105.700000              8.000000\n",
       "75%    1500.250000      204.00000  30709.350000             12.000000\n",
       "max    2000.000000      518.00000  52498.750000             15.000000"
      ]
     },
     "execution_count": 7,
     "metadata": {},
     "output_type": "execute_result"
    }
   ],
   "source": [
    "df.describe()"
   ]
  },
  {
   "cell_type": "markdown",
   "id": "e4d3069c-2261-43fe-843d-93d2e8e785d4",
   "metadata": {},
   "source": [
    "We can use unique() function to determine unique values for each column to investigate further into data frame."
   ]
  },
  {
   "cell_type": "code",
   "execution_count": 8,
   "id": "713656ed-34b8-404c-87e4-6c1e7d12d0ae",
   "metadata": {
    "executionTime": 39,
    "lastSuccessfullyExecutedCode": "col_names = df.columns\nfor i in col_names:\n    print(df[i].unique())"
   },
   "outputs": [
    {
     "name": "stdout",
     "output_type": "stream",
     "text": [
      "[   1    2    3 ... 1998 1999 2000]\n",
      "[317 195 183 186 138 190 149 180 208 175 223 265 235 229 189 204 129 167\n",
      " 119 177 170 148 173 184 172 237 262 136 181 161 146 243 233 125 166 178\n",
      " 111 168 301 192 250 185 140 248 196 130 179 290 215 182 159 105 188 109\n",
      " 267 142 276 293 226 187 153 132 157 144 200 199 156 165 273 120 247 280\n",
      " 238 134 176 359 160 355 297 245 126 127 108 218 118 102 143 133 227 214\n",
      " 358 163 234 115 139 171 210 158 240 145 322 228 155 124 162 207 256 174\n",
      " 194 131 212 246 169 230 217 292 345 219 225 164 152 203 213 137 197 261\n",
      " 224 206 193 141 325 220 244 318 135 277 254  84 191 104 121 259 202 341\n",
      " 198 231 232 211 275 110  76 222 257 113 499 274 216 270 205 221 299 260\n",
      " 272 151  98 326 367 352 294  95 360 370 123 453 327 279 249 117 241 307\n",
      " 384 147 419 310 209 285 316 106 286 122 253 116 268 320 107 101 201 281\n",
      " 313 150 271 284 251 295 154  93 329 291 287 255 406 263 350 100 518  90\n",
      " 264 300 306  96 242  97  92 128 282 304  91 114 112 338 283 396 236 278\n",
      " 239  87 298 252 427 328 266 302 361 258 340 103 379 334  82  99  89 364\n",
      "  94 308  88 269]\n",
      "['R$ 74474.55' 'R$ 52137.83' 'R$ 24447.2' ... 'R$ 11975.85' 'R$ 23516.28'\n",
      " 'R$ 8051.4']\n",
      "[51231.37 42111.3  23986.3  ... 10087.81 23310.24  6417.92]\n",
      "['RECIFE' 'FORTALEZA' 'SAO LUIS' 'NATAL']\n",
      "[15 12 10 11  8  9  6  7 13  4  2  3 14  5  1]\n",
      "[False True nan]\n",
      "['unknown' 'meat' 'vegetable' ' Meat' 'VEGETABLES']\n"
     ]
    }
   ],
   "source": [
    "col_names = df.columns\n",
    "for i in col_names:\n",
    "    print(df[i].unique())"
   ]
  },
  {
   "cell_type": "markdown",
   "id": "decefebb-05ad-4f8f-9c62-b2db3a8d4768",
   "metadata": {},
   "source": [
    "Besied missing values, there are some non-standarized values in the last column. Everything else looks fine"
   ]
  },
  {
   "cell_type": "markdown",
   "id": "eb4f1210-e42c-4aab-8cb9-ebacb65524f6",
   "metadata": {},
   "source": [
    "We will replace missing values in amount_paid with overall median amount paid."
   ]
  },
  {
   "cell_type": "code",
   "execution_count": 9,
   "id": "da9085ec-2626-4f9e-960f-74b717f594cd",
   "metadata": {
    "executionTime": 0,
    "lastSuccessfullyExecutedCode": "overall_median = df['amount_paid'].median(skipna = True)\n#overall median calculation"
   },
   "outputs": [],
   "source": [
    "overall_median = df['amount_paid'].median(skipna = True)\n",
    "#overall median calculation"
   ]
  },
  {
   "cell_type": "code",
   "execution_count": 10,
   "id": "0160ad73-d17b-4e9f-b668-c735b6ad1911",
   "metadata": {
    "executionTime": 66,
    "lastSuccessfullyExecutedCode": "df['amount_paid'] = df['amount_paid'].fillna(overall_median)\n#filling missing values"
   },
   "outputs": [],
   "source": [
    "df['amount_paid'] = df['amount_paid'].fillna(overall_median)\n",
    "#filling missing values"
   ]
  },
  {
   "cell_type": "code",
   "execution_count": 11,
   "id": "39815cce-111b-4d5d-ae66-102b7a9eb8e6",
   "metadata": {
    "executionTime": 55,
    "lastSuccessfullyExecutedCode": "df['amount_paid'].isna().sum()\n#final check"
   },
   "outputs": [
    {
     "data": {
      "text/plain": [
       "0"
      ]
     },
     "execution_count": 11,
     "metadata": {},
     "output_type": "execute_result"
    }
   ],
   "source": [
    "df['amount_paid'].isna().sum()\n",
    "#final check"
   ]
  },
  {
   "cell_type": "markdown",
   "id": "ae460091-93e3-4378-8ddf-9fb61031f45e",
   "metadata": {},
   "source": [
    "There are no more missing values in column amount_paid."
   ]
  },
  {
   "cell_type": "markdown",
   "id": "9f86c16a-159e-4651-911e-4cf3391e40e7",
   "metadata": {},
   "source": [
    "Let's get into linked_cases. We will replace missing values fith False"
   ]
  },
  {
   "cell_type": "code",
   "execution_count": 12,
   "id": "88560972-2263-46f7-a450-ef5aaf51559b",
   "metadata": {
    "executionTime": 0,
    "lastSuccessfullyExecutedCode": "df['linked_cases'] = df['linked_cases'].fillna(False)\n#filling Na values with False boolean"
   },
   "outputs": [],
   "source": [
    "df['linked_cases'] = df['linked_cases'].fillna(False)\n",
    "#filling Na values with False boolean"
   ]
  },
  {
   "cell_type": "code",
   "execution_count": 13,
   "id": "41547199-7404-45d1-b6ae-ea67212f2efb",
   "metadata": {
    "executionTime": 42,
    "lastSuccessfullyExecutedCode": "df['linked_cases'].isna().sum()\n#final check"
   },
   "outputs": [
    {
     "data": {
      "text/plain": [
       "0"
      ]
     },
     "execution_count": 13,
     "metadata": {},
     "output_type": "execute_result"
    }
   ],
   "source": [
    "df['linked_cases'].isna().sum()\n",
    "#final check"
   ]
  },
  {
   "cell_type": "markdown",
   "id": "7c047f26-adb0-4f58-8680-7d8d97eec9bd",
   "metadata": {},
   "source": [
    "There are no more missing values in linked_cases"
   ]
  },
  {
   "cell_type": "markdown",
   "id": "c5367a1e-157a-4b72-932d-8c862e69442e",
   "metadata": {},
   "source": [
    "We can see that column cause have some non-standarized values and some that require trimming. We should take care of it."
   ]
  },
  {
   "cell_type": "code",
   "execution_count": 14,
   "id": "38745f72-5dea-4111-aee3-fae8897b0fa9",
   "metadata": {
    "executionTime": 0,
    "lastSuccessfullyExecutedCode": "df['cause'] = df['cause'].str.lower()\n#standarizing according to requirements\n"
   },
   "outputs": [],
   "source": [
    "df['cause'] = df['cause'].str.lower()\n",
    "#standarizing according to requirements\n"
   ]
  },
  {
   "cell_type": "code",
   "execution_count": 15,
   "id": "6f110412-988c-4a42-9a88-2293f97b8a37",
   "metadata": {
    "executionTime": 0,
    "lastSuccessfullyExecutedCode": "df['cause'] = df['cause'].str.strip()\n#deleting unnecessary spaces"
   },
   "outputs": [],
   "source": [
    "df['cause'] = df['cause'].str.strip()\n",
    "#deleting unnecessary spaces"
   ]
  },
  {
   "cell_type": "code",
   "execution_count": 16,
   "id": "ab20b61e-4277-4471-a189-966a7e896d5e",
   "metadata": {
    "executionTime": 0,
    "lastSuccessfullyExecutedCode": "df['cause'] = df['cause'].replace(['vegetables'],'vegetable')\n#replacing vegetables with vegetable"
   },
   "outputs": [],
   "source": [
    "df['cause'] = df['cause'].replace(['vegetables'],'vegetable')\n",
    "#replacing vegetables with vegetable"
   ]
  },
  {
   "cell_type": "code",
   "execution_count": 17,
   "id": "49b0127b-cba4-4696-9b45-9cf4ae90fb0e",
   "metadata": {
    "executionTime": 62,
    "lastSuccessfullyExecutedCode": "df['cause'].unique()\n#final check"
   },
   "outputs": [
    {
     "data": {
      "text/plain": [
       "array(['unknown', 'meat', 'vegetable'], dtype=object)"
      ]
     },
     "execution_count": 17,
     "metadata": {},
     "output_type": "execute_result"
    }
   ],
   "source": [
    "df['cause'].unique()\n",
    "#final check"
   ]
  },
  {
   "cell_type": "markdown",
   "id": "864b67e7-3b47-4fbc-9f40-36417b3ec375",
   "metadata": {},
   "source": [
    "We can see that everything is fine now."
   ]
  },
  {
   "cell_type": "markdown",
   "id": "97e19ea5-4b66-43a1-a797-f98f3671b182",
   "metadata": {},
   "source": [
    "The original data is 2000 rows and 8 columns. After validation, there were 2000 rows remaining. The following describes what has been done to each column:\n",
    "\n",
    "- **claim_id**: There were 2000 unique values,as expected\n",
    "- **time_to_close**: Discrete. The number of days to close the claim. Any positive value,as expected.\n",
    "- **claim_amount**:Continuous. The initial claim requested in the currency of Brazil,rounded to 2 decimal places, as expected\n",
    "- **amount_paid**: Continuous. Final amount paid. In the currency of Brazil. Rounded to 2 decimal places. Missing values have been replaced with overall median, besides that everything as expected.\n",
    "- **location**: Nominal. Location of the claim, one of “RECIFE”, “SAO LUIS”,\n",
    "“FORTALEZA”, or “NATAL”. As expected.\n",
    "- **individuals_on_claim**: Discrete. Number of individuals on this claim. Minimum 1 person. As expected\n",
    "- **linked_cases**: Nominal. Whether this claim is linked to other cases. Either TRUE or FALSE. Missing values have been replaced with FALSE, everything else as expected.\n",
    "- **cause** :Nominal. Cause of the food poisoning. One of “vegetable”, “meat”\n",
    "or “unknown”. There were some unstandarized values which have been taken care of, everything else as expected."
   ]
  },
  {
   "cell_type": "markdown",
   "id": "643d4c36-4183-4fbe-a263-6b9de60d29da",
   "metadata": {},
   "source": [
    "## Task 2"
   ]
  },
  {
   "cell_type": "code",
   "execution_count": 40,
   "id": "3493b82d-3aaf-4c50-8dd0-ce7fbfdfaa04",
   "metadata": {
    "executionTime": 1596,
    "lastSuccessfullyExecutedCode": "plt.subplots(figsize=(20,15))\ncount = df[\"location\"].value_counts(ascending = False)\ndf_plat = df.filter([\"location\"], axis = 1)\ndf_plat['count'] = 1\ndf_plat\ngrouped_plat_genre = df_plat.groupby(\"location\", as_index = False,sort= False).sum()\ngrouped_plat_genre.sort_index(ascending = False)\ngrouped_plat_genre= grouped_plat_genre.sort_values('count', ascending = False)\nsns.barplot(data = grouped_plat_genre, x = \"count\", y = \"location\")\nplt.title(\"Claim per location\", fontsize = 17)"
   },
   "outputs": [
    {
     "data": {
      "text/plain": [
       "Text(0.5, 1.0, 'Claim per location')"
      ]
     },
     "execution_count": 40,
     "metadata": {},
     "output_type": "execute_result"
    },
    {
     "data": {
      "image/png": "[encoded data removed]",
      "text/plain": [
       "<Figure size 2000x1500 with 1 Axes>"
      ]
     },
     "metadata": {},
     "output_type": "display_data"
    }
   ],
   "source": [
    "plt.subplots(figsize=(20,15))\n",
    "count = df[\"location\"].value_counts(ascending = False)\n",
    "df_plat = df.filter([\"location\"], axis = 1)\n",
    "df_plat['count'] = 1\n",
    "df_plat\n",
    "grouped_plat_genre = df_plat.groupby(\"location\", as_index = False,sort= False).sum()\n",
    "grouped_plat_genre.sort_index(ascending = False)\n",
    "grouped_plat_genre= grouped_plat_genre.sort_values('count', ascending = False)\n",
    "sns.barplot(data = grouped_plat_genre, x = \"count\", y = \"location\")\n",
    "plt.title(\"Claim per location\", fontsize = 17)"
   ]
  },
  {
   "cell_type": "markdown",
   "id": "1d5ba38c-1b3a-4f9b-bf38-bb0a62dac346",
   "metadata": {},
   "source": [
    "a) _Recife_ is **locatio**n with biggest number of observations\n",
    "b) The observations are not balanced across categories, _Recife_ stands out very much, _Sao Luis_ also, only _Natal_ and _Fortaleza_ are fairly balanced"
   ]
  },
  {
   "cell_type": "markdown",
   "id": "ce5f6df2-fbf2-4c44-9209-9ee668876b53",
   "metadata": {},
   "source": [
    "## Task 3"
   ]
  },
  {
   "cell_type": "code",
   "execution_count": 20,
   "id": "65bb8aaa-6aa5-4723-a1f5-a5c5af98d411",
   "metadata": {
    "executionTime": 67,
    "lastSuccessfullyExecutedCode": "sns.histplot(data = df, x = \"time_to_close\").set(title = 'Distribution of time_to_close')\n#creating histogram to inspect distribution"
   },
   "outputs": [
    {
     "data": {
      "text/plain": [
       "[Text(0.5, 1.0, 'Distribution of time_to_close')]"
      ]
     },
     "execution_count": 20,
     "metadata": {},
     "output_type": "execute_result"
    },
    {
     "data": {
      "image/png": "[encoded data removed]",
      "text/plain": [
       "<Figure size 640x480 with 1 Axes>"
      ]
     },
     "metadata": {},
     "output_type": "display_data"
    }
   ],
   "source": [
    "sns.histplot(data = df, x = \"time_to_close\").set(title = 'Distribution of time_to_close')\n",
    "#creating histogram to inspect distribution"
   ]
  },
  {
   "cell_type": "code",
   "execution_count": 21,
   "id": "282f6fb6-0de4-4cb9-91b9-78faa1c98576",
   "metadata": {
    "executionTime": 73,
    "lastSuccessfullyExecutedCode": "print(kurtosis(df['time_to_close'], fisher=False)), print(skew(df['time_to_close']))\n#calculating kurtosis and skewness"
   },
   "outputs": [
    {
     "name": "stdout",
     "output_type": "stream",
     "text": [
      "6.813654752020035\n",
      "1.2927725837263404\n"
     ]
    },
    {
     "data": {
      "text/plain": [
       "(None, None)"
      ]
     },
     "execution_count": 21,
     "metadata": {},
     "output_type": "execute_result"
    }
   ],
   "source": [
    "print(kurtosis(df['time_to_close'], fisher=False)), print(skew(df['time_to_close']))\n",
    "#calculating kurtosis and skewness"
   ]
  },
  {
   "cell_type": "markdown",
   "id": "e2a28aa7-e654-4617-8c71-80935121afc2",
   "metadata": {},
   "source": [
    "We can see that the distribution of the **time_to_close** kinda reminds the normal distribution with some of the outliers. Positive kurtosis indicate that we have many outliers. The skewness is positive, which means the distribution is right-skewed, which means the most extreme values of **time_to_close** are on the right side."
   ]
  },
  {
   "cell_type": "markdown",
   "id": "c5fbe3a0-d277-437c-a1a0-f1edf80684f7",
   "metadata": {},
   "source": [
    "## Task 4"
   ]
  },
  {
   "cell_type": "markdown",
   "id": "6c3cf05e-e795-43cf-984d-5ccb2af053a9",
   "metadata": {},
   "source": [
    "We have to convert **location** datatype to categorical in order to inspect correlation"
   ]
  },
  {
   "cell_type": "code",
   "execution_count": 22,
   "id": "e902d1be-b079-486b-84e6-ae9dc6d0c1ca",
   "metadata": {
    "executionTime": 0,
    "lastSuccessfullyExecutedCode": "df_with_category =df.copy()\n#copying data frame so it won't mess our previous work"
   },
   "outputs": [],
   "source": [
    "df_with_category =df.copy()\n",
    "#copying data frame so it won't mess our previous work"
   ]
  },
  {
   "cell_type": "code",
   "execution_count": 23,
   "id": "2a3a0b8f-6710-48e4-9cc4-f6bb395ac97b",
   "metadata": {
    "executionTime": 0,
    "lastSuccessfullyExecutedCode": "df_with_category['location']=df_with_category['location'].astype('category').cat.codes"
   },
   "outputs": [],
   "source": [
    "df_with_category['location']=df_with_category['location'].astype('category').cat.codes"
   ]
  },
  {
   "cell_type": "code",
   "execution_count": 24,
   "id": "ccced423-6b89-42c6-ad45-df25762c14d4",
   "metadata": {
    "executionTime": 217,
    "lastSuccessfullyExecutedCode": "plt.subplots(figsize=(20,15))\nsns.heatmap(df_with_category.corr(),annot=True,robust = True).set(title = 'Correlation Heatmap')"
   },
   "outputs": [
    {
     "data": {
      "text/plain": [
       "[Text(0.5, 1.0, 'Correlation Heatmap')]"
      ]
     },
     "execution_count": 24,
     "metadata": {},
     "output_type": "execute_result"
    },
    {
     "data": {
      "image/png": "[encoded data removed]",
      "text/plain": [
       "<Figure size 2000x1500 with 2 Axes>"
      ]
     },
     "metadata": {},
     "output_type": "display_data"
    }
   ],
   "source": [
    "plt.subplots(figsize=(20,15))\n",
    "sns.heatmap(df_with_category.corr(),annot=True,robust = True).set(title = 'Correlation Heatmap')"
   ]
  },
  {
   "cell_type": "markdown",
   "id": "170dd2ea-340f-4ab4-94c8-fe077342e98e",
   "metadata": {},
   "source": [
    "Correlation is very small so there is no relationships between **time_to_close** and **location**"
   ]
  }
 ],
 "metadata": {
  "colab": {
   "name": "Welcome to DataCamp Workspaces.ipynb",
   "provenance": []
  },
  "kernelspec": {
   "display_name": "Python 3",
   "language": "python",
   "name": "python3"
  },
  "language_info": {
   "codemirror_mode": {
    "name": "ipython",
    "version": 3
   },
   "file_extension": ".py",
   "mimetype": "text/x-python",
   "name": "python",
   "nbconvert_exporter": "python",
   "pygments_lexer": "ipython3",
   "version": "3.8.8"
  }
 },
 "nbformat": 4,
 "nbformat_minor": 5
}
